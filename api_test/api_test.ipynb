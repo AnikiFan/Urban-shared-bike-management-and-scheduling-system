{
 "cells": [
  {
   "cell_type": "code",
   "id": "initial_id",
   "metadata": {
    "collapsed": true,
    "ExecuteTime": {
     "end_time": "2025-01-05T08:04:45.229298Z",
     "start_time": "2025-01-05T08:04:45.224753Z"
    }
   },
   "source": [
    "import requests\n",
    "from utils import *\n",
    "from enum import Enum\n",
    "import json\n",
    "\n",
    "from utils import generate_scheduler_scheduling_log"
   ],
   "outputs": [],
   "execution_count": 6
  },
  {
   "metadata": {
    "ExecuteTime": {
     "end_time": "2025-01-05T08:04:45.846221Z",
     "start_time": "2025-01-05T08:04:45.842751Z"
    }
   },
   "cell_type": "code",
   "source": [
    "# url = 'https://nextjs-dashboard-eight-kappa-78.vercel.app'\n",
    "url = 'http://localhost:3000'"
   ],
   "id": "c431721ca82b6509",
   "outputs": [],
   "execution_count": 7
  },
  {
   "metadata": {
    "ExecuteTime": {
     "end_time": "2025-01-05T08:04:46.519787Z",
     "start_time": "2025-01-05T08:04:46.514864Z"
    }
   },
   "cell_type": "code",
   "source": [
    "class Status(Enum):\n",
    "    NORMAL = 'NORMAL'\n",
    "    ILLEGAL_PARKING = 'ILLEGAL_PARKING'\n",
    "    LOW_BATTERY = 'LOW_BATTERY'\n",
    "    IDLE = 'IDLE'\n",
    "    LUFLT = 'LUFLT'\n",
    "    ABNORMAL = 'ABNORMAL'\n",
    "    TO_MAINTAIN = 'TO_MAINTAIN'\n",
    "    OUTDATED = 'OUTDATED'\n",
    "    IN_STORAGE = 'IN_STORAGE'\n",
    "\n",
    "\n",
    "bike_ids = [f'{i}'*20 for i in range(10)]"
   ],
   "id": "218207a3407423d6",
   "outputs": [],
   "execution_count": 8
  },
  {
   "metadata": {
    "ExecuteTime": {
     "end_time": "2025-01-05T08:04:59.962382Z",
     "start_time": "2025-01-05T08:04:54.248712Z"
    }
   },
   "cell_type": "code",
   "source": [
    "start,end = generate_bike_payload(bike_id=bike_ids[1],start_time=datetime.now(),start_coordinate = [121,31],end_coordinate = [121.4,31.25],interval=10)\n",
    "print('start payload')\n",
    "print(start)\n",
    "print('end payload')\n",
    "print(end)\n",
    "start_res = requests.post(url+'/api/bike',data=start)\n",
    "end_res = requests.post(url+'/api/bike',data=end)\n",
    "print('start response')\n",
    "print(start_res.content)\n",
    "print('end response')\n",
    "print(end_res.content)"
   ],
   "id": "17899e486249ebfc",
   "outputs": [
    {
     "name": "stdout",
     "output_type": "stream",
     "text": [
      "start payload\n",
      "{'bike_id': '11111111111111111111', 'coordinate': '[121, 31]', 'time': '2025-01-05 16:04:54', 'action': True, 'remain_battery_capacity': 0.6115022325481919}\n",
      "end payload\n",
      "{'bike_id': '11111111111111111111', 'coordinate': '[121.4, 31.25]', 'time': '2025-01-05 16:14:54', 'action': False, 'remain_battery_capacity': 0.512620402604522}\n",
      "start response\n",
      "b'{\"success\":true,\"details\":{\"uploadedUsageData\":{\"success\":true,\"error\":\"\"},\"uploadedBikeInfo\":{\"success\":true,\"error\":\"\"}}}'\n",
      "end response\n",
      "b'{\"success\":true,\"details\":{\"uploadedUsageData\":{\"success\":true,\"error\":\"\"},\"uploadedBikeInfo\":{\"success\":true,\"error\":\"\"}}}'\n"
     ]
    }
   ],
   "execution_count": 9
  },
  {
   "metadata": {
    "ExecuteTime": {
     "end_time": "2025-01-05T08:06:06.037877Z",
     "start_time": "2025-01-05T08:06:00.729542Z"
    }
   },
   "cell_type": "code",
   "source": [
    "start,end = generate_scheduler_scheduling_log(bike_id=bike_ids[1],start_time=datetime.now()-timedelta(hours=3),start_coordinate = [121,31],end_coordinate = [122.5,34],interval=10)\n",
    "start_res = requests.post(url+'/api/scheduler/schedulingLog',data=start)\n",
    "end_res = requests.post(url+'/api/scheduler/schedulingLog',data=end)\n",
    "\n",
    "print('start response')\n",
    "print(start_res.content)\n",
    "print('end response')\n",
    "print(end_res.content)"
   ],
   "id": "7c78d8f9bf269237",
   "outputs": [
    {
     "name": "stdout",
     "output_type": "stream",
     "text": [
      "start response\n",
      "b'{\"success\":true,\"details\":{\"uploadedSchedulingLog\":{\"success\":true,\"error\":\"\"}}}'\n",
      "end response\n",
      "b'{\"success\":true,\"details\":{\"uploadedSchedulingLog\":{\"success\":true,\"error\":\"\"}}}'\n"
     ]
    }
   ],
   "execution_count": 10
  },
  {
   "metadata": {
    "ExecuteTime": {
     "end_time": "2025-01-05T08:06:08.271492Z",
     "start_time": "2025-01-05T08:06:06.107929Z"
    }
   },
   "cell_type": "code",
   "source": [
    "start,end = generate_scheduler_scheduling_log(bike_id=bike_ids[1],start_time=datetime.now()-timedelta(hours=2),start_coordinate = [121.4,31.2],end_coordinate = [121.5,31.3],interval=10)\n",
    "start_res = requests.post(url+'/api/scheduler/schedulingLog',data=start)\n",
    "end_res = requests.post(url+'/api/scheduler/schedulingLog',data=end)\n"
   ],
   "id": "97be4e46f56da99d",
   "outputs": [],
   "execution_count": 11
  },
  {
   "metadata": {
    "ExecuteTime": {
     "end_time": "2025-01-05T08:06:10.455097Z",
     "start_time": "2025-01-05T08:06:08.282886Z"
    }
   },
   "cell_type": "code",
   "source": [
    "start,end = generate_scheduler_scheduling_log(bike_id=bike_ids[1],start_time=datetime.now()-timedelta(hours=1),start_coordinate = [123.4,32.2],end_coordinate = [122.5,35.3],interval=10)\n",
    "start_res = requests.post(url+'/api/scheduler/schedulingLog',data=start)\n",
    "end_res = requests.post(url+'/api/scheduler/schedulingLog',data=end)\n"
   ],
   "id": "11dbab2e8766fb8f",
   "outputs": [],
   "execution_count": 12
  },
  {
   "metadata": {},
   "cell_type": "code",
   "source": "start",
   "id": "9fc63221dc1a80b9",
   "outputs": [],
   "execution_count": null
  },
  {
   "metadata": {
    "ExecuteTime": {
     "end_time": "2025-01-05T08:07:26.836119Z",
     "start_time": "2025-01-05T08:07:01.128619Z"
    }
   },
   "cell_type": "code",
   "source": "change_form_payload = generate_scheduler_change_form_payload(bike_id=bike_ids[1],status=[Status.NORMAL.value])\n",
   "id": "6fcbbb37fbe925c5",
   "outputs": [],
   "execution_count": 13
  },
  {
   "metadata": {
    "ExecuteTime": {
     "end_time": "2025-01-05T08:07:32.655243Z",
     "start_time": "2025-01-05T08:07:26.839674Z"
    }
   },
   "cell_type": "code",
   "source": [
    "res = requests.post(url+'/api/scheduler/changeForm',data=change_form_payload)\n",
    "res.content\n"
   ],
   "id": "aa8ce9f82c81ce9f",
   "outputs": [
    {
     "data": {
      "text/plain": [
       "b'{\"success\":true,\"details\":{\"uploadedSchedulingLog\":{\"success\":true,\"error\":\"\"}}}'"
      ]
     },
     "execution_count": 14,
     "metadata": {},
     "output_type": "execute_result"
    }
   ],
   "execution_count": 14
  },
  {
   "metadata": {},
   "cell_type": "code",
   "source": "",
   "id": "a5bdc9fc4806ad3f",
   "outputs": [],
   "execution_count": null
  }
 ],
 "metadata": {
  "kernelspec": {
   "display_name": "Python 3",
   "language": "python",
   "name": "python3"
  },
  "language_info": {
   "codemirror_mode": {
    "name": "ipython",
    "version": 2
   },
   "file_extension": ".py",
   "mimetype": "text/x-python",
   "name": "python",
   "nbconvert_exporter": "python",
   "pygments_lexer": "ipython2",
   "version": "2.7.6"
  }
 },
 "nbformat": 4,
 "nbformat_minor": 5
}
