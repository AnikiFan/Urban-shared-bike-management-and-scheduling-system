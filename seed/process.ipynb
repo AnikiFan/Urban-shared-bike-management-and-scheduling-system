{
 "cells": [
  {
   "cell_type": "code",
   "id": "initial_id",
   "metadata": {
    "collapsed": true,
    "ExecuteTime": {
     "end_time": "2024-12-08T14:35:53.023990Z",
     "start_time": "2024-12-08T14:35:53.018988Z"
    }
   },
   "source": [
    "import pandas as pd\n",
    "import os\n",
    "import random\n",
    "import string"
   ],
   "outputs": [],
   "execution_count": 12
  },
  {
   "metadata": {
    "ExecuteTime": {
     "end_time": "2024-12-08T14:28:08.796388Z",
     "start_time": "2024-12-08T14:28:08.245304Z"
    }
   },
   "cell_type": "code",
   "source": "raw = pd.read_csv(os.path.join(os.curdir,'data','mobike_shanghai_sample_updated.csv'))",
   "id": "2818003ec010af40",
   "outputs": [],
   "execution_count": 3
  },
  {
   "metadata": {
    "ExecuteTime": {
     "end_time": "2024-12-11T11:46:57.859334Z",
     "start_time": "2024-12-11T11:46:57.635679Z"
    }
   },
   "cell_type": "code",
   "source": "raw.nunique()",
   "id": "afd7a081259924e7",
   "outputs": [
    {
     "data": {
      "text/plain": [
       "orderid             102361\n",
       "bikeid               79062\n",
       "userid               16887\n",
       "start_time           30833\n",
       "start_location_x       471\n",
       "start_location_y       430\n",
       "end_time             31297\n",
       "end_location_x         479\n",
       "end_location_y         440\n",
       "track               100117\n",
       "dtype: int64"
      ]
     },
     "execution_count": 43,
     "metadata": {},
     "output_type": "execute_result"
    }
   ],
   "execution_count": 43
  },
  {
   "metadata": {
    "ExecuteTime": {
     "end_time": "2024-12-08T14:28:13.776377Z",
     "start_time": "2024-12-08T14:28:13.749019Z"
    }
   },
   "cell_type": "code",
   "source": "raw.info()",
   "id": "39c3848b0a240601",
   "outputs": [
    {
     "name": "stdout",
     "output_type": "stream",
     "text": [
      "<class 'pandas.core.frame.DataFrame'>\n",
      "RangeIndex: 102361 entries, 0 to 102360\n",
      "Data columns (total 10 columns):\n",
      " #   Column            Non-Null Count   Dtype  \n",
      "---  ------            --------------   -----  \n",
      " 0   orderid           102361 non-null  int64  \n",
      " 1   bikeid            102361 non-null  int64  \n",
      " 2   userid            102361 non-null  int64  \n",
      " 3   start_time        102361 non-null  object \n",
      " 4   start_location_x  102361 non-null  float64\n",
      " 5   start_location_y  102361 non-null  float64\n",
      " 6   end_time          102361 non-null  object \n",
      " 7   end_location_x    102361 non-null  float64\n",
      " 8   end_location_y    102361 non-null  float64\n",
      " 9   track             102361 non-null  object \n",
      "dtypes: float64(4), int64(3), object(3)\n",
      "memory usage: 7.8+ MB\n"
     ]
    }
   ],
   "execution_count": 4
  },
  {
   "metadata": {
    "ExecuteTime": {
     "end_time": "2024-12-08T14:28:25.073428Z",
     "start_time": "2024-12-08T14:28:25.058637Z"
    }
   },
   "cell_type": "code",
   "source": "raw.head()",
   "id": "c24af2163eab4d46",
   "outputs": [
    {
     "data": {
      "text/plain": [
       "   orderid  bikeid  userid       start_time  start_location_x  \\\n",
       "0    78387  158357   10080   2016/8/20 6:57           121.348   \n",
       "1   891333   92776    6605  2016/8/29 19:09           121.508   \n",
       "2  1106623  152045    8876  2016/8/13 16:17           121.383   \n",
       "3  1389484  196259   10648  2016/8/23 21:34           121.484   \n",
       "4   188537   78208   11735   2016/8/16 7:32           121.407   \n",
       "\n",
       "   start_location_y         end_time  end_location_x  end_location_y  \\\n",
       "0            31.389   2016/8/20 7:04         121.357          31.388   \n",
       "1            31.279  2016/8/29 19:31         121.489          31.271   \n",
       "2            31.254  2016/8/13 16:36         121.405          31.248   \n",
       "3            31.320  2016/8/23 21:43         121.471          31.325   \n",
       "4            31.292   2016/8/16 7:41         121.418          31.288   \n",
       "\n",
       "                                               track  \n",
       "0  121.347,31.392#121.348,31.389#121.349,31.390#1...  \n",
       "1  121.489,31.270#121.489,31.271#121.490,31.270#1...  \n",
       "2  121.381,31.251#121.382,31.251#121.382,31.252#1...  \n",
       "3  121.471,31.325#121.472,31.325#121.473,31.324#1...  \n",
       "4  121.407,31.291#121.407,31.292#121.408,31.291#1...  "
      ],
      "text/html": [
       "<div>\n",
       "<style scoped>\n",
       "    .dataframe tbody tr th:only-of-type {\n",
       "        vertical-align: middle;\n",
       "    }\n",
       "\n",
       "    .dataframe tbody tr th {\n",
       "        vertical-align: top;\n",
       "    }\n",
       "\n",
       "    .dataframe thead th {\n",
       "        text-align: right;\n",
       "    }\n",
       "</style>\n",
       "<table border=\"1\" class=\"dataframe\">\n",
       "  <thead>\n",
       "    <tr style=\"text-align: right;\">\n",
       "      <th></th>\n",
       "      <th>orderid</th>\n",
       "      <th>bikeid</th>\n",
       "      <th>userid</th>\n",
       "      <th>start_time</th>\n",
       "      <th>start_location_x</th>\n",
       "      <th>start_location_y</th>\n",
       "      <th>end_time</th>\n",
       "      <th>end_location_x</th>\n",
       "      <th>end_location_y</th>\n",
       "      <th>track</th>\n",
       "    </tr>\n",
       "  </thead>\n",
       "  <tbody>\n",
       "    <tr>\n",
       "      <th>0</th>\n",
       "      <td>78387</td>\n",
       "      <td>158357</td>\n",
       "      <td>10080</td>\n",
       "      <td>2016/8/20 6:57</td>\n",
       "      <td>121.348</td>\n",
       "      <td>31.389</td>\n",
       "      <td>2016/8/20 7:04</td>\n",
       "      <td>121.357</td>\n",
       "      <td>31.388</td>\n",
       "      <td>121.347,31.392#121.348,31.389#121.349,31.390#1...</td>\n",
       "    </tr>\n",
       "    <tr>\n",
       "      <th>1</th>\n",
       "      <td>891333</td>\n",
       "      <td>92776</td>\n",
       "      <td>6605</td>\n",
       "      <td>2016/8/29 19:09</td>\n",
       "      <td>121.508</td>\n",
       "      <td>31.279</td>\n",
       "      <td>2016/8/29 19:31</td>\n",
       "      <td>121.489</td>\n",
       "      <td>31.271</td>\n",
       "      <td>121.489,31.270#121.489,31.271#121.490,31.270#1...</td>\n",
       "    </tr>\n",
       "    <tr>\n",
       "      <th>2</th>\n",
       "      <td>1106623</td>\n",
       "      <td>152045</td>\n",
       "      <td>8876</td>\n",
       "      <td>2016/8/13 16:17</td>\n",
       "      <td>121.383</td>\n",
       "      <td>31.254</td>\n",
       "      <td>2016/8/13 16:36</td>\n",
       "      <td>121.405</td>\n",
       "      <td>31.248</td>\n",
       "      <td>121.381,31.251#121.382,31.251#121.382,31.252#1...</td>\n",
       "    </tr>\n",
       "    <tr>\n",
       "      <th>3</th>\n",
       "      <td>1389484</td>\n",
       "      <td>196259</td>\n",
       "      <td>10648</td>\n",
       "      <td>2016/8/23 21:34</td>\n",
       "      <td>121.484</td>\n",
       "      <td>31.320</td>\n",
       "      <td>2016/8/23 21:43</td>\n",
       "      <td>121.471</td>\n",
       "      <td>31.325</td>\n",
       "      <td>121.471,31.325#121.472,31.325#121.473,31.324#1...</td>\n",
       "    </tr>\n",
       "    <tr>\n",
       "      <th>4</th>\n",
       "      <td>188537</td>\n",
       "      <td>78208</td>\n",
       "      <td>11735</td>\n",
       "      <td>2016/8/16 7:32</td>\n",
       "      <td>121.407</td>\n",
       "      <td>31.292</td>\n",
       "      <td>2016/8/16 7:41</td>\n",
       "      <td>121.418</td>\n",
       "      <td>31.288</td>\n",
       "      <td>121.407,31.291#121.407,31.292#121.408,31.291#1...</td>\n",
       "    </tr>\n",
       "  </tbody>\n",
       "</table>\n",
       "</div>"
      ]
     },
     "execution_count": 5,
     "metadata": {},
     "output_type": "execute_result"
    }
   ],
   "execution_count": 5
  },
  {
   "metadata": {
    "ExecuteTime": {
     "end_time": "2024-12-08T14:41:26.157084Z",
     "start_time": "2024-12-08T14:41:25.930422Z"
    }
   },
   "cell_type": "code",
   "source": "map = {origin:(str(origin)+''.join(random.choices(string.ascii_letters+string.digits,k=20-len(str(origin)))) if len(str(origin))<20 else str(origin)[:20]) for origin in raw.bikeid.unique()}",
   "id": "10663bdf6565d577",
   "outputs": [],
   "execution_count": 17
  },
  {
   "metadata": {
    "ExecuteTime": {
     "end_time": "2024-12-08T15:08:28.700497Z",
     "start_time": "2024-12-08T15:08:27.785222Z"
    }
   },
   "cell_type": "code",
   "source": "raw.drop(['track','orderid','userid'],axis=1).assign(start_time=pd.to_datetime(raw.start_time),end_time=pd.to_datetime(raw.end_time),bikeid=raw.bikeid.apply(lambda x: map[x])).to_csv(os.path.join(os.curdir,'data','processed.csv'),index=False)",
   "id": "9ad3b65c53f41514",
   "outputs": [],
   "execution_count": 24
  },
  {
   "metadata": {
    "ExecuteTime": {
     "end_time": "2024-12-08T15:27:14.652469Z",
     "start_time": "2024-12-08T15:27:14.345364Z"
    }
   },
   "cell_type": "code",
   "source": "processed = pd.read_csv(os.path.join(os.curdir,'data','processed.csv')).astype({\"start_time\":\"datetime64[ns]\",\"end_time\":\"datetime64[ns]\"})",
   "id": "a49f01be57548b1a",
   "outputs": [],
   "execution_count": 37
  },
  {
   "metadata": {
    "ExecuteTime": {
     "end_time": "2024-12-08T15:27:16.247669Z",
     "start_time": "2024-12-08T15:27:16.200479Z"
    }
   },
   "cell_type": "code",
   "source": "processed.describe()",
   "id": "5cae8cb1954334c5",
   "outputs": [
    {
     "data": {
      "text/plain": [
       "                          start_time  start_location_x  start_location_y  \\\n",
       "count                         102361     102361.000000     102361.000000   \n",
       "mean   2016-08-19 11:07:24.768808448        121.454144         31.251740   \n",
       "min              2016-08-01 00:23:00        121.173000         30.842000   \n",
       "25%              2016-08-12 17:55:00        121.415000         31.212000   \n",
       "50%              2016-08-20 12:32:00        121.456000         31.260000   \n",
       "75%              2016-08-26 19:51:00        121.497000         31.294000   \n",
       "max              2016-08-31 23:58:00        121.970000         31.450000   \n",
       "std                              NaN          0.060862          0.057358   \n",
       "\n",
       "                            end_time  end_location_x  end_location_y  \n",
       "count                         102361   102361.000000   102361.000000  \n",
       "mean   2016-08-19 11:24:36.478541568      121.453736       31.252029  \n",
       "min              2016-08-01 00:32:00      120.486000       30.841000  \n",
       "25%              2016-08-12 18:13:00      121.414000       31.212000  \n",
       "50%              2016-08-20 12:46:00      121.456000       31.261000  \n",
       "75%              2016-08-26 20:15:00      121.497000       31.294000  \n",
       "max              2016-09-01 08:25:00      121.971000       31.477000  \n",
       "std                              NaN        0.061577        0.057740  "
      ],
      "text/html": [
       "<div>\n",
       "<style scoped>\n",
       "    .dataframe tbody tr th:only-of-type {\n",
       "        vertical-align: middle;\n",
       "    }\n",
       "\n",
       "    .dataframe tbody tr th {\n",
       "        vertical-align: top;\n",
       "    }\n",
       "\n",
       "    .dataframe thead th {\n",
       "        text-align: right;\n",
       "    }\n",
       "</style>\n",
       "<table border=\"1\" class=\"dataframe\">\n",
       "  <thead>\n",
       "    <tr style=\"text-align: right;\">\n",
       "      <th></th>\n",
       "      <th>start_time</th>\n",
       "      <th>start_location_x</th>\n",
       "      <th>start_location_y</th>\n",
       "      <th>end_time</th>\n",
       "      <th>end_location_x</th>\n",
       "      <th>end_location_y</th>\n",
       "    </tr>\n",
       "  </thead>\n",
       "  <tbody>\n",
       "    <tr>\n",
       "      <th>count</th>\n",
       "      <td>102361</td>\n",
       "      <td>102361.000000</td>\n",
       "      <td>102361.000000</td>\n",
       "      <td>102361</td>\n",
       "      <td>102361.000000</td>\n",
       "      <td>102361.000000</td>\n",
       "    </tr>\n",
       "    <tr>\n",
       "      <th>mean</th>\n",
       "      <td>2016-08-19 11:07:24.768808448</td>\n",
       "      <td>121.454144</td>\n",
       "      <td>31.251740</td>\n",
       "      <td>2016-08-19 11:24:36.478541568</td>\n",
       "      <td>121.453736</td>\n",
       "      <td>31.252029</td>\n",
       "    </tr>\n",
       "    <tr>\n",
       "      <th>min</th>\n",
       "      <td>2016-08-01 00:23:00</td>\n",
       "      <td>121.173000</td>\n",
       "      <td>30.842000</td>\n",
       "      <td>2016-08-01 00:32:00</td>\n",
       "      <td>120.486000</td>\n",
       "      <td>30.841000</td>\n",
       "    </tr>\n",
       "    <tr>\n",
       "      <th>25%</th>\n",
       "      <td>2016-08-12 17:55:00</td>\n",
       "      <td>121.415000</td>\n",
       "      <td>31.212000</td>\n",
       "      <td>2016-08-12 18:13:00</td>\n",
       "      <td>121.414000</td>\n",
       "      <td>31.212000</td>\n",
       "    </tr>\n",
       "    <tr>\n",
       "      <th>50%</th>\n",
       "      <td>2016-08-20 12:32:00</td>\n",
       "      <td>121.456000</td>\n",
       "      <td>31.260000</td>\n",
       "      <td>2016-08-20 12:46:00</td>\n",
       "      <td>121.456000</td>\n",
       "      <td>31.261000</td>\n",
       "    </tr>\n",
       "    <tr>\n",
       "      <th>75%</th>\n",
       "      <td>2016-08-26 19:51:00</td>\n",
       "      <td>121.497000</td>\n",
       "      <td>31.294000</td>\n",
       "      <td>2016-08-26 20:15:00</td>\n",
       "      <td>121.497000</td>\n",
       "      <td>31.294000</td>\n",
       "    </tr>\n",
       "    <tr>\n",
       "      <th>max</th>\n",
       "      <td>2016-08-31 23:58:00</td>\n",
       "      <td>121.970000</td>\n",
       "      <td>31.450000</td>\n",
       "      <td>2016-09-01 08:25:00</td>\n",
       "      <td>121.971000</td>\n",
       "      <td>31.477000</td>\n",
       "    </tr>\n",
       "    <tr>\n",
       "      <th>std</th>\n",
       "      <td>NaN</td>\n",
       "      <td>0.060862</td>\n",
       "      <td>0.057358</td>\n",
       "      <td>NaN</td>\n",
       "      <td>0.061577</td>\n",
       "      <td>0.057740</td>\n",
       "    </tr>\n",
       "  </tbody>\n",
       "</table>\n",
       "</div>"
      ]
     },
     "execution_count": 38,
     "metadata": {},
     "output_type": "execute_result"
    }
   ],
   "execution_count": 38
  },
  {
   "metadata": {
    "ExecuteTime": {
     "end_time": "2024-12-08T15:27:28.004887Z",
     "start_time": "2024-12-08T15:27:27.995950Z"
    }
   },
   "cell_type": "code",
   "source": "processed.head()",
   "id": "e54a2e7fa443742e",
   "outputs": [
    {
     "data": {
      "text/plain": [
       "                 bikeid          start_time  start_location_x  \\\n",
       "0  158357NSqrL1JDPvXTU9 2016-08-20 06:57:00           121.348   \n",
       "1  92776nsU9MrxaXPDhT5E 2016-08-29 19:09:00           121.508   \n",
       "2  152045VxGUdiVjqOzNjS 2016-08-13 16:17:00           121.383   \n",
       "3  196259Ho4odkXSt3qjIm 2016-08-23 21:34:00           121.484   \n",
       "4  782087q9Q1VRno42o6pv 2016-08-16 07:32:00           121.407   \n",
       "\n",
       "   start_location_y            end_time  end_location_x  end_location_y  \n",
       "0            31.389 2016-08-20 07:04:00         121.357          31.388  \n",
       "1            31.279 2016-08-29 19:31:00         121.489          31.271  \n",
       "2            31.254 2016-08-13 16:36:00         121.405          31.248  \n",
       "3            31.320 2016-08-23 21:43:00         121.471          31.325  \n",
       "4            31.292 2016-08-16 07:41:00         121.418          31.288  "
      ],
      "text/html": [
       "<div>\n",
       "<style scoped>\n",
       "    .dataframe tbody tr th:only-of-type {\n",
       "        vertical-align: middle;\n",
       "    }\n",
       "\n",
       "    .dataframe tbody tr th {\n",
       "        vertical-align: top;\n",
       "    }\n",
       "\n",
       "    .dataframe thead th {\n",
       "        text-align: right;\n",
       "    }\n",
       "</style>\n",
       "<table border=\"1\" class=\"dataframe\">\n",
       "  <thead>\n",
       "    <tr style=\"text-align: right;\">\n",
       "      <th></th>\n",
       "      <th>bikeid</th>\n",
       "      <th>start_time</th>\n",
       "      <th>start_location_x</th>\n",
       "      <th>start_location_y</th>\n",
       "      <th>end_time</th>\n",
       "      <th>end_location_x</th>\n",
       "      <th>end_location_y</th>\n",
       "    </tr>\n",
       "  </thead>\n",
       "  <tbody>\n",
       "    <tr>\n",
       "      <th>0</th>\n",
       "      <td>158357NSqrL1JDPvXTU9</td>\n",
       "      <td>2016-08-20 06:57:00</td>\n",
       "      <td>121.348</td>\n",
       "      <td>31.389</td>\n",
       "      <td>2016-08-20 07:04:00</td>\n",
       "      <td>121.357</td>\n",
       "      <td>31.388</td>\n",
       "    </tr>\n",
       "    <tr>\n",
       "      <th>1</th>\n",
       "      <td>92776nsU9MrxaXPDhT5E</td>\n",
       "      <td>2016-08-29 19:09:00</td>\n",
       "      <td>121.508</td>\n",
       "      <td>31.279</td>\n",
       "      <td>2016-08-29 19:31:00</td>\n",
       "      <td>121.489</td>\n",
       "      <td>31.271</td>\n",
       "    </tr>\n",
       "    <tr>\n",
       "      <th>2</th>\n",
       "      <td>152045VxGUdiVjqOzNjS</td>\n",
       "      <td>2016-08-13 16:17:00</td>\n",
       "      <td>121.383</td>\n",
       "      <td>31.254</td>\n",
       "      <td>2016-08-13 16:36:00</td>\n",
       "      <td>121.405</td>\n",
       "      <td>31.248</td>\n",
       "    </tr>\n",
       "    <tr>\n",
       "      <th>3</th>\n",
       "      <td>196259Ho4odkXSt3qjIm</td>\n",
       "      <td>2016-08-23 21:34:00</td>\n",
       "      <td>121.484</td>\n",
       "      <td>31.320</td>\n",
       "      <td>2016-08-23 21:43:00</td>\n",
       "      <td>121.471</td>\n",
       "      <td>31.325</td>\n",
       "    </tr>\n",
       "    <tr>\n",
       "      <th>4</th>\n",
       "      <td>782087q9Q1VRno42o6pv</td>\n",
       "      <td>2016-08-16 07:32:00</td>\n",
       "      <td>121.407</td>\n",
       "      <td>31.292</td>\n",
       "      <td>2016-08-16 07:41:00</td>\n",
       "      <td>121.418</td>\n",
       "      <td>31.288</td>\n",
       "    </tr>\n",
       "  </tbody>\n",
       "</table>\n",
       "</div>"
      ]
     },
     "execution_count": 39,
     "metadata": {},
     "output_type": "execute_result"
    }
   ],
   "execution_count": 39
  },
  {
   "metadata": {
    "ExecuteTime": {
     "end_time": "2024-12-09T02:23:54.592099Z",
     "start_time": "2024-12-09T02:23:54.360965Z"
    }
   },
   "cell_type": "code",
   "source": "processed.groupby('bikeid').sort_values('start_time',ascending=False).head(1)",
   "id": "d30213a9f0e54761",
   "outputs": [
    {
     "ename": "AttributeError",
     "evalue": "'DataFrameGroupBy' object has no attribute 'sort_values'",
     "output_type": "error",
     "traceback": [
      "\u001B[1;31m---------------------------------------------------------------------------\u001B[0m",
      "\u001B[1;31mAttributeError\u001B[0m                            Traceback (most recent call last)",
      "Cell \u001B[1;32mIn[40], line 1\u001B[0m\n\u001B[1;32m----> 1\u001B[0m \u001B[43mprocessed\u001B[49m\u001B[38;5;241;43m.\u001B[39;49m\u001B[43mgroupby\u001B[49m\u001B[43m(\u001B[49m\u001B[38;5;124;43m'\u001B[39;49m\u001B[38;5;124;43mbikeid\u001B[39;49m\u001B[38;5;124;43m'\u001B[39;49m\u001B[43m)\u001B[49m\u001B[38;5;241;43m.\u001B[39;49m\u001B[43msort_values\u001B[49m(\u001B[38;5;124m'\u001B[39m\u001B[38;5;124mstart_time\u001B[39m\u001B[38;5;124m'\u001B[39m,ascending\u001B[38;5;241m=\u001B[39m\u001B[38;5;28;01mFalse\u001B[39;00m)\u001B[38;5;241m.\u001B[39mhead(\u001B[38;5;241m1\u001B[39m)\n",
      "File \u001B[1;32mD:\\15800\\Workspace\\BIkeData\\.venv\\Lib\\site-packages\\pandas\\core\\groupby\\groupby.py:1363\u001B[0m, in \u001B[0;36mGroupBy.__getattr__\u001B[1;34m(self, attr)\u001B[0m\n\u001B[0;32m   1360\u001B[0m \u001B[38;5;28;01mif\u001B[39;00m attr \u001B[38;5;129;01min\u001B[39;00m \u001B[38;5;28mself\u001B[39m\u001B[38;5;241m.\u001B[39mobj:\n\u001B[0;32m   1361\u001B[0m     \u001B[38;5;28;01mreturn\u001B[39;00m \u001B[38;5;28mself\u001B[39m[attr]\n\u001B[1;32m-> 1363\u001B[0m \u001B[38;5;28;01mraise\u001B[39;00m \u001B[38;5;167;01mAttributeError\u001B[39;00m(\n\u001B[0;32m   1364\u001B[0m     \u001B[38;5;124mf\u001B[39m\u001B[38;5;124m\"\u001B[39m\u001B[38;5;124m'\u001B[39m\u001B[38;5;132;01m{\u001B[39;00m\u001B[38;5;28mtype\u001B[39m(\u001B[38;5;28mself\u001B[39m)\u001B[38;5;241m.\u001B[39m\u001B[38;5;18m__name__\u001B[39m\u001B[38;5;132;01m}\u001B[39;00m\u001B[38;5;124m'\u001B[39m\u001B[38;5;124m object has no attribute \u001B[39m\u001B[38;5;124m'\u001B[39m\u001B[38;5;132;01m{\u001B[39;00mattr\u001B[38;5;132;01m}\u001B[39;00m\u001B[38;5;124m'\u001B[39m\u001B[38;5;124m\"\u001B[39m\n\u001B[0;32m   1365\u001B[0m )\n",
      "\u001B[1;31mAttributeError\u001B[0m: 'DataFrameGroupBy' object has no attribute 'sort_values'"
     ]
    }
   ],
   "execution_count": 40
  },
  {
   "metadata": {},
   "cell_type": "code",
   "outputs": [],
   "execution_count": null,
   "source": "",
   "id": "4ebe7d8ba1997773"
  }
 ],
 "metadata": {
  "kernelspec": {
   "display_name": "Python 3",
   "language": "python",
   "name": "python3"
  },
  "language_info": {
   "codemirror_mode": {
    "name": "ipython",
    "version": 2
   },
   "file_extension": ".py",
   "mimetype": "text/x-python",
   "name": "python",
   "nbconvert_exporter": "python",
   "pygments_lexer": "ipython2",
   "version": "2.7.6"
  }
 },
 "nbformat": 4,
 "nbformat_minor": 5
}
